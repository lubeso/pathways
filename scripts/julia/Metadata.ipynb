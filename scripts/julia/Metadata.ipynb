{
 "cells": [
  {
   "cell_type": "code",
   "execution_count": 34,
   "metadata": {},
   "outputs": [],
   "source": [
    "using JSON, CSV, DataFrames; rd, wr = CSV.read, CSV.write\n",
    "using GeoInterface, LibGEOS, GeoJSON\n",
    "using DataStructures"
   ]
  },
  {
   "cell_type": "code",
   "execution_count": 35,
   "metadata": {},
   "outputs": [],
   "source": [
    "tracts = rd(\"../../data/info/ctracts.csv\") |> DataFrame;\n",
    "minc   = rd(\"../../data/info/ctmedian-income.csv\") |> DataFrame;"
   ]
  },
  {
   "cell_type": "code",
   "execution_count": 36,
   "metadata": {
    "collapsed": true
   },
   "outputs": [
    {
     "data": {
      "text/html": [
       "<table class=\"data-frame\"><thead><tr><th></th><th>tract</th><th>name</th><th>travel_time</th><th>white</th><th>black</th></tr><tr><th></th><th>Int64</th><th>String</th><th>Float64</th><th>Float64</th><th>Float64</th></tr></thead><tbody><p>2,055 rows × 14 columns (omitted printing of 9 columns)</p><tr><th>1</th><td>1000100</td><td>park-cemetery-etc-Manhattan</td><td>NaN</td><td>NaN</td><td>NaN</td></tr><tr><th>2</th><td>1000201</td><td>Lower East Side</td><td>56.0863</td><td>27.6404</td><td>5.8427</td></tr><tr><th>3</th><td>1000202</td><td>Lower East Side</td><td>58.5324</td><td>36.2151</td><td>16.754</td></tr><tr><th>4</th><td>1000500</td><td>park-cemetery-etc-Manhattan</td><td>73.0828</td><td>NaN</td><td>NaN</td></tr><tr><th>5</th><td>1000600</td><td>Lower East Side</td><td>50.6527</td><td>12.5035</td><td>8.59266</td></tr><tr><th>6</th><td>1000700</td><td>Battery Park City-Lower Manhattan</td><td>70.732</td><td>71.8917</td><td>2.24245</td></tr><tr><th>7</th><td>1000800</td><td>Chinatown</td><td>52.9795</td><td>10.5925</td><td>0.967846</td></tr><tr><th>8</th><td>1000900</td><td>Battery Park City-Lower Manhattan</td><td>60.4484</td><td>74.5528</td><td>2.94287</td></tr><tr><th>9</th><td>1001001</td><td>Lower East Side</td><td>58.9823</td><td>73.468</td><td>2.89562</td></tr><tr><th>10</th><td>1001002</td><td>Lower East Side</td><td>58.9723</td><td>21.8311</td><td>21.1203</td></tr><tr><th>11</th><td>1001200</td><td>Lower East Side</td><td>52.2478</td><td>57.1927</td><td>3.03274</td></tr><tr><th>12</th><td>1001300</td><td>Battery Park City-Lower Manhattan</td><td>48.0319</td><td>68.4153</td><td>2.689</td></tr><tr><th>13</th><td>1001401</td><td>Lower East Side</td><td>49.9522</td><td>76.7115</td><td>0.875274</td></tr><tr><th>14</th><td>1001402</td><td>Lower East Side</td><td>47.6722</td><td>38.7664</td><td>4.85872</td></tr><tr><th>15</th><td>1001501</td><td>Battery Park City-Lower Manhattan</td><td>57.417</td><td>64.1139</td><td>5.59245</td></tr><tr><th>16</th><td>1001502</td><td>Battery Park City-Lower Manhattan</td><td>57.4469</td><td>69.4204</td><td>2.60746</td></tr><tr><th>17</th><td>1001600</td><td>Chinatown</td><td>47.6494</td><td>17.5371</td><td>2.16096</td></tr><tr><th>18</th><td>1001800</td><td>Chinatown</td><td>47.703</td><td>32.9371</td><td>5.34351</td></tr><tr><th>19</th><td>1002000</td><td>Lower East Side</td><td>61.8716</td><td>22.5847</td><td>22.3941</td></tr><tr><th>20</th><td>1002100</td><td>SoHo-TriBeCa-Civic Center-Little Italy</td><td>46.5597</td><td>78.4371</td><td>1.52589</td></tr><tr><th>21</th><td>1002201</td><td>Lower East Side</td><td>56.4005</td><td>30.1405</td><td>19.2789</td></tr><tr><th>22</th><td>1002202</td><td>Lower East Side</td><td>53.938</td><td>61.4352</td><td>5.88539</td></tr><tr><th>23</th><td>1002400</td><td>Lower East Side</td><td>62.0923</td><td>31.9352</td><td>14.6118</td></tr><tr><th>24</th><td>1002500</td><td>Chinatown</td><td>55.0644</td><td>16.4376</td><td>25.4189</td></tr><tr><th>25</th><td>1002601</td><td>Lower East Side</td><td>62.1016</td><td>41.6043</td><td>11.1621</td></tr><tr><th>26</th><td>1002602</td><td>Lower East Side</td><td>57.6549</td><td>59.8741</td><td>3.75379</td></tr><tr><th>27</th><td>1002700</td><td>Chinatown</td><td>51.1408</td><td>14.8571</td><td>0.642857</td></tr><tr><th>28</th><td>1002800</td><td>Lower East Side</td><td>57.2548</td><td>39.4158</td><td>17.0652</td></tr><tr><th>29</th><td>1002900</td><td>Chinatown</td><td>50.5707</td><td>13.8134</td><td>14.2717</td></tr><tr><th>30</th><td>1003001</td><td>Chinatown</td><td>49.4729</td><td>64.0509</td><td>2.18383</td></tr><tr><th>&vellip;</th><td>&vellip;</td><td>&vellip;</td><td>&vellip;</td><td>&vellip;</td><td>&vellip;</td></tr></tbody></table>"
      ],
      "text/latex": [
       "\\begin{tabular}{r|cccccc}\n",
       "\t& tract & name & travel\\_time & white & black & \\\\\n",
       "\t\\hline\n",
       "\t& Int64 & String & Float64 & Float64 & Float64 & \\\\\n",
       "\t\\hline\n",
       "\t1 & 1000100 & park-cemetery-etc-Manhattan & NaN & NaN & NaN & $\\dots$ \\\\\n",
       "\t2 & 1000201 & Lower East Side & 56.0863 & 27.6404 & 5.8427 & $\\dots$ \\\\\n",
       "\t3 & 1000202 & Lower East Side & 58.5324 & 36.2151 & 16.754 & $\\dots$ \\\\\n",
       "\t4 & 1000500 & park-cemetery-etc-Manhattan & 73.0828 & NaN & NaN & $\\dots$ \\\\\n",
       "\t5 & 1000600 & Lower East Side & 50.6527 & 12.5035 & 8.59266 & $\\dots$ \\\\\n",
       "\t6 & 1000700 & Battery Park City-Lower Manhattan & 70.732 & 71.8917 & 2.24245 & $\\dots$ \\\\\n",
       "\t7 & 1000800 & Chinatown & 52.9795 & 10.5925 & 0.967846 & $\\dots$ \\\\\n",
       "\t8 & 1000900 & Battery Park City-Lower Manhattan & 60.4484 & 74.5528 & 2.94287 & $\\dots$ \\\\\n",
       "\t9 & 1001001 & Lower East Side & 58.9823 & 73.468 & 2.89562 & $\\dots$ \\\\\n",
       "\t10 & 1001002 & Lower East Side & 58.9723 & 21.8311 & 21.1203 & $\\dots$ \\\\\n",
       "\t11 & 1001200 & Lower East Side & 52.2478 & 57.1927 & 3.03274 & $\\dots$ \\\\\n",
       "\t12 & 1001300 & Battery Park City-Lower Manhattan & 48.0319 & 68.4153 & 2.689 & $\\dots$ \\\\\n",
       "\t13 & 1001401 & Lower East Side & 49.9522 & 76.7115 & 0.875274 & $\\dots$ \\\\\n",
       "\t14 & 1001402 & Lower East Side & 47.6722 & 38.7664 & 4.85872 & $\\dots$ \\\\\n",
       "\t15 & 1001501 & Battery Park City-Lower Manhattan & 57.417 & 64.1139 & 5.59245 & $\\dots$ \\\\\n",
       "\t16 & 1001502 & Battery Park City-Lower Manhattan & 57.4469 & 69.4204 & 2.60746 & $\\dots$ \\\\\n",
       "\t17 & 1001600 & Chinatown & 47.6494 & 17.5371 & 2.16096 & $\\dots$ \\\\\n",
       "\t18 & 1001800 & Chinatown & 47.703 & 32.9371 & 5.34351 & $\\dots$ \\\\\n",
       "\t19 & 1002000 & Lower East Side & 61.8716 & 22.5847 & 22.3941 & $\\dots$ \\\\\n",
       "\t20 & 1002100 & SoHo-TriBeCa-Civic Center-Little Italy & 46.5597 & 78.4371 & 1.52589 & $\\dots$ \\\\\n",
       "\t21 & 1002201 & Lower East Side & 56.4005 & 30.1405 & 19.2789 & $\\dots$ \\\\\n",
       "\t22 & 1002202 & Lower East Side & 53.938 & 61.4352 & 5.88539 & $\\dots$ \\\\\n",
       "\t23 & 1002400 & Lower East Side & 62.0923 & 31.9352 & 14.6118 & $\\dots$ \\\\\n",
       "\t24 & 1002500 & Chinatown & 55.0644 & 16.4376 & 25.4189 & $\\dots$ \\\\\n",
       "\t25 & 1002601 & Lower East Side & 62.1016 & 41.6043 & 11.1621 & $\\dots$ \\\\\n",
       "\t26 & 1002602 & Lower East Side & 57.6549 & 59.8741 & 3.75379 & $\\dots$ \\\\\n",
       "\t27 & 1002700 & Chinatown & 51.1408 & 14.8571 & 0.642857 & $\\dots$ \\\\\n",
       "\t28 & 1002800 & Lower East Side & 57.2548 & 39.4158 & 17.0652 & $\\dots$ \\\\\n",
       "\t29 & 1002900 & Chinatown & 50.5707 & 13.8134 & 14.2717 & $\\dots$ \\\\\n",
       "\t30 & 1003001 & Chinatown & 49.4729 & 64.0509 & 2.18383 & $\\dots$ \\\\\n",
       "\t$\\dots$ & $\\dots$ & $\\dots$ & $\\dots$ & $\\dots$ & $\\dots$ &  \\\\\n",
       "\\end{tabular}\n"
      ],
      "text/plain": [
       "2055×14 DataFrame. Omitted printing of 11 columns\n",
       "│ Row  │ tract   │ name                                 │ travel_time │\n",
       "│      │ \u001b[90mInt64\u001b[39m   │ \u001b[90mString\u001b[39m                               │ \u001b[90mFloat64\u001b[39m     │\n",
       "├──────┼─────────┼──────────────────────────────────────┼─────────────┤\n",
       "│ 1    │ 1000100 │ park-cemetery-etc-Manhattan          │ NaN         │\n",
       "│ 2    │ 1000201 │ Lower East Side                      │ 56.0863     │\n",
       "│ 3    │ 1000202 │ Lower East Side                      │ 58.5324     │\n",
       "│ 4    │ 1000500 │ park-cemetery-etc-Manhattan          │ 73.0828     │\n",
       "│ 5    │ 1000600 │ Lower East Side                      │ 50.6527     │\n",
       "│ 6    │ 1000700 │ Battery Park City-Lower Manhattan    │ 70.732      │\n",
       "│ 7    │ 1000800 │ Chinatown                            │ 52.9795     │\n",
       "│ 8    │ 1000900 │ Battery Park City-Lower Manhattan    │ 60.4484     │\n",
       "│ 9    │ 1001001 │ Lower East Side                      │ 58.9823     │\n",
       "│ 10   │ 1001002 │ Lower East Side                      │ 58.9723     │\n",
       "⋮\n",
       "│ 2045 │ 4152902 │ Douglas Manor-Douglaston-Little Neck │ 101.91      │\n",
       "│ 2046 │ 4155101 │ Glen Oaks-Floral Park-New Hyde Park  │ 117.04      │\n",
       "│ 2047 │ 4155102 │ Glen Oaks-Floral Park-New Hyde Park  │ 90.7018     │\n",
       "│ 2048 │ 4156700 │ Bellerose                            │ 88.5141     │\n",
       "│ 2049 │ 4157101 │ Bellerose                            │ 87.2628     │\n",
       "│ 2050 │ 4157102 │ Bellerose                            │ 87.2073     │\n",
       "│ 2051 │ 4157901 │ Glen Oaks-Floral Park-New Hyde Park  │ 91.5441     │\n",
       "│ 2052 │ 4157902 │ Glen Oaks-Floral Park-New Hyde Park  │ 90.4629     │\n",
       "│ 2053 │ 4157903 │ Glen Oaks-Floral Park-New Hyde Park  │ 95.1847     │\n",
       "│ 2054 │ 4161700 │ Bellerose                            │ 89.9438     │\n",
       "│ 2055 │ 4162100 │ Bellerose                            │ 86.013      │"
      ]
     },
     "execution_count": 36,
     "metadata": {},
     "output_type": "execute_result"
    }
   ],
   "source": [
    "S = findall(n -> string(n)[1] == '5', tracts[:,:tract]); deleterows!(tracts, S);"
   ]
  },
  {
   "cell_type": "code",
   "execution_count": 39,
   "metadata": {},
   "outputs": [],
   "source": [
    "nj = OrderedDict(); nj[\"type\"] = \"FeatureCollection\"; \n",
    "k = findall(n -> !occursin(\"park-cemetery-etc\",n) && !occursin(\"Airport\",n),tracts[:,:name])\n",
    "n = names(tracts)\n",
    "feats = []; url = \"https://lubeso.github.io/pathways/figs\"\n",
    "\n",
    "for i ∈ k\n",
    "    feat = OrderedDict(\"properties\" => OrderedDict(),\n",
    "                \"geometry\" => OrderedDict(),\n",
    "                \"type\" => \"Feature\")\n",
    "    for name ∈ n\n",
    "        feat[\"properties\"][String(name)] = tracts[i,name]\n",
    "    end\n",
    "    \n",
    "    feat[\"properties\"][\"beeswarm\"] = \n",
    "    \"<img src='$url/$(tracts[i,:tract]).svg' height = '300' width = '300'>\"\n",
    "    \n",
    "    geom = LibGEOS._readgeom(tracts[i,:geometry])\n",
    "    poly = LibGEOS.MultiPolygon(geom) |> GeoInterface.MultiPolygon\n",
    "    feat[\"geometry\"][\"coordinates\"] = poly.coordinates\n",
    "    feat[\"geometry\"][\"type\"] = \"MultiPolygon\"\n",
    "    \n",
    "    push!(feats, feat)\n",
    "end\n",
    "\n",
    "nj[\"features\"] = feats;"
   ]
  },
  {
   "cell_type": "code",
   "execution_count": 40,
   "metadata": {},
   "outputs": [
    {
     "data": {
      "text/plain": [
       "9591844"
      ]
     },
     "execution_count": 40,
     "metadata": {},
     "output_type": "execute_result"
    }
   ],
   "source": [
    "open(\"../../data/geo/ctracts-minus-staten.geojson\", \"w\") do f\n",
    "    write(f, JSON.json(nj))\n",
    "end"
   ]
  }
 ],
 "metadata": {
  "jupytext": {
   "encoding": "# -*- coding: utf-8 -*-",
   "formats": "ipynb,jl:light"
  },
  "kernelspec": {
   "display_name": "Julia 1.4.0",
   "language": "julia",
   "name": "julia-1.4"
  },
  "language_info": {
   "file_extension": ".jl",
   "mimetype": "application/julia",
   "name": "julia",
   "version": "1.4.0"
  }
 },
 "nbformat": 4,
 "nbformat_minor": 2
}
