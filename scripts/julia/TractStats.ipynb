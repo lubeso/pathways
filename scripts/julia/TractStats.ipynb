{
 "cells": [
  {
   "cell_type": "code",
   "execution_count": null,
   "metadata": {},
   "outputs": [],
   "source": [
    "using CSV, DataFrames; rd, wr = CSV.read, CSV.write\n",
    "using DataStructures\n",
    "using Statistics"
   ]
  },
  {
   "cell_type": "code",
   "execution_count": null,
   "metadata": {},
   "outputs": [],
   "source": [
    "ctrace = rd(\"../../data/info/ctrace.csv\") |> DataFrame\n",
    "ctenrl = rd(\"../../data/info/ctenroll.csv\") |> DataFrame\n",
    "ctincm = rd(\"../../data/info/ctincome.csv\") |> DataFrame"
   ]
  },
  {
   "cell_type": "code",
   "execution_count": null,
   "metadata": {},
   "outputs": [],
   "source": [
    "names(ctrace)"
   ]
  },
  {
   "cell_type": "code",
   "execution_count": null,
   "metadata": {},
   "outputs": [],
   "source": [
    "# race statistics\n",
    "races = names(ctrace)[3:9]\n",
    "race_prcnt = OrderedDict((:name => ctrace[:,:NAME]),\n",
    "                    [(race => ctrace[:,race] ./ ctrace[:,:Total]) for race in races]...,\n",
    "                    (:tract => ctrace[:,:tract]))\n",
    "ctrace_prcnt = DataFrame(race_prcnt)"
   ]
  },
  {
   "cell_type": "code",
   "execution_count": null,
   "metadata": {},
   "outputs": [],
   "source": [
    "ctrace_prcnt |> wr(\"../../data/info/ctrace-percent.csv\")"
   ]
  },
  {
   "cell_type": "code",
   "execution_count": null,
   "metadata": {},
   "outputs": [],
   "source": [
    "# enrollment statistics\n",
    "public = (ctenrl[:,Symbol(\"Male (Public)\")] .+ ctenrl[:,Symbol(\"Female (Public)\")])\n",
    "private = (ctenrl[:,Symbol(\"Male (Private)\")] .+ ctenrl[:,Symbol(\"Female (Private)\")])\n",
    "\n",
    "enrl_prcnt = OrderedDict((:name => ctenrl[:,:NAME]),\n",
    "                          (:public => public),(:private => private),\n",
    "                          (:tract => ctenrl[:,:tract]))\n",
    "\n",
    "ctenrl_prcnt = DataFrame(enrl_prcnt)"
   ]
  },
  {
   "cell_type": "code",
   "execution_count": null,
   "metadata": {},
   "outputs": [],
   "source": [
    "ctenrl_prcnt |> wr(\"../../data/info/ctenroll-stats.csv\")"
   ]
  },
  {
   "cell_type": "code",
   "execution_count": null,
   "metadata": {},
   "outputs": [],
   "source": [
    "# income statistics\n",
    "brackets = [Symbol(\"<\\$10,000\"),Symbol(\"\\$10,000-\\$14,999\"),Symbol(\"\\$15,000-\\$19,999\"),\n",
    "            Symbol(\"\\$20,000-\\$24,999\"),Symbol(\"\\$25,000-\\$29,999\"),Symbol(\"\\$30,000-\\$34,999\"),\n",
    "            Symbol(\"\\$35,000-\\$39,999\"),Symbol(\"\\$40,000-\\$44,999\"),Symbol(\"\\$45,000-\\$49,999\"),\n",
    "            Symbol(\"\\$50,000-\\$59,999\"),Symbol(\"\\$60,000-\\$74,999\"),Symbol(\"\\$75,000-\\$99,999\"),\n",
    "            Symbol(\"\\$100,000-\\$124,999\"),Symbol(\"\\$125,000-\\$149,999\"),\n",
    "            Symbol(\"\\$150,000-\\$199,999\"),Symbol(\"\\$200,000+\")]\n",
    "\n",
    "incomes = [5000.0,12500.0,17500.0,22500.0,27500.0,32500.0,37500.0,42500.0,\n",
    "           47500.0,55000.0,67500.0,87500.0,112500.0,137500.0,175000.0,250000.0]\n",
    "\n",
    "n = nrow(ctincm); mean_income = zeros(n)\n",
    "b = length(brackets)\n",
    "for i ∈ 1:n\n",
    "    row = Array(ctincm[i,brackets]); income = Float64[]\n",
    "    for j ∈ 1:b\n",
    "        _income = repeat([incomes[j]],row[j])\n",
    "        income = vcat(income,_income)\n",
    "    end\n",
    "    !isempty(income) ? mean_income[i] = mean(income) : nothing\n",
    "end"
   ]
  },
  {
   "cell_type": "code",
   "execution_count": null,
   "metadata": {},
   "outputs": [],
   "source": [
    "minc = OrderedDict((:name => ctincm[:,:NAME]),\n",
    "                   (:mean_income => mean_income),\n",
    "                   (:tract => ctincm[:,:tract]))\n",
    "ctminc = DataFrame(minc); first(ctminc,6)"
   ]
  },
  {
   "cell_type": "code",
   "execution_count": null,
   "metadata": {},
   "outputs": [],
   "source": [
    "ctminc |> wr(\"../../data/info/ctmean-income.csv\")"
   ]
  }
 ],
 "metadata": {
  "jupytext": {
   "encoding": "# -*- coding: utf-8 -*-",
   "formats": "ipynb,jl:light"
  },
  "kernelspec": {
   "display_name": "Julia 1.4.0",
   "language": "julia",
   "name": "julia-1.4"
  }
 },
 "nbformat": 4,
 "nbformat_minor": 2
}
