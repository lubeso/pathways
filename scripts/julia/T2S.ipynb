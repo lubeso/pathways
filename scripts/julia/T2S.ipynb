{
 "cells": [
  {
   "cell_type": "code",
   "execution_count": null,
   "metadata": {},
   "outputs": [],
   "source": [
    "using CSV, DataFrames; rd, wr = CSV.read, CSV.write\n",
    "using JSON, GeoJSON, GeoInterface, LibGEOS\n",
    "using StatsBase, DataStructures"
   ]
  },
  {
   "cell_type": "code",
   "execution_count": null,
   "metadata": {},
   "outputs": [],
   "source": [
    "ctracts = rd(\"../../data/info/ctracts.csv\") |> DataFrame; tracts = ctracts[:,:tract]\n",
    "schools = rd(\"../../data/school/hs-directory.csv\") |> DataFrame; codes = schools[:,:dbn]\n",
    "achieve = rd(\"../../data/school/2019-student-achievement.csv\") |> DataFrame; names(achieve)"
   ]
  },
  {
   "cell_type": "code",
   "execution_count": null,
   "metadata": {},
   "outputs": [],
   "source": [
    "A = Set(achieve[:,:DBN]); C = Set(codes); AnC = A ∩ C;\n",
    "ainds = findall(c -> !(c in AnC), achieve[:,:DBN])\n",
    "sinds = findall(c -> !(c in AnC), codes)\n",
    "deleterows!(achieve,ainds); deleterows!(schools,sinds)\n",
    "@assert nrow(achieve) == nrow(schools)"
   ]
  },
  {
   "cell_type": "code",
   "execution_count": null,
   "metadata": {},
   "outputs": [],
   "source": [
    "sort!(achieve, [:DBN]); sort!(schools, [:dbn])"
   ]
  },
  {
   "cell_type": "code",
   "execution_count": null,
   "metadata": {},
   "outputs": [],
   "source": [
    "ptr = [LibGEOS.Point(schools[i,:Longitude],schools[i,:Latitude]) for i in 1:nrow(schools)]\n",
    "pts = LibGEOS.writegeom.(ptr)\n",
    "ratings = DataFrame(:dbn => schools[:,:dbn],\n",
    "                    :score => achieve[:,Symbol(\"Student Achievement - Section Score\")],\n",
    "                    :geometry => pts); first(ratings,6)"
   ]
  },
  {
   "cell_type": "code",
   "execution_count": null,
   "metadata": {},
   "outputs": [],
   "source": [
    "dbns = ratings[:,:dbn]; scores = ratings[:,:score]; geoms = ratings[:,:geometry]\n",
    "for tract in tracts\n",
    "    S = OrderedDict([(dbn => NaN) for dbn in dbns]...)\n",
    "    try\n",
    "        J = JSON.Parser.parsefile(\"../python/jsons/$tract.json\")\n",
    "        R = J[\"results\"][1]; L = R[\"locations\"]\n",
    "        for l ∈ L\n",
    "            dbn = l[\"id\"]\n",
    "            if dbn ∈ dbns\n",
    "                S[dbn] = l[\"properties\"][1][\"travel_time\"] / 60\n",
    "            end\n",
    "        end\n",
    "    catch\n",
    "        @warn \"$tract not found....\"\n",
    "    end\n",
    "    D = DataFrame(:dbn => dbns, :score => scores, \n",
    "                    :travel_time => collect(values(S)), :geom => geoms)\n",
    "    D |> wr(\"csvs/$tract.csv\")\n",
    "end"
   ]
  }
 ],
 "metadata": {
  "jupytext": {
   "encoding": "# -*- coding: utf-8 -*-",
   "formats": "ipynb,jl:light"
  },
  "kernelspec": {
   "display_name": "Julia 1.4.0",
   "language": "julia",
   "name": "julia-1.4"
  }
 },
 "nbformat": 4,
 "nbformat_minor": 2
}
