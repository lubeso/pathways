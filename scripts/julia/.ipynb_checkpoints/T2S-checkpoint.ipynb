{
 "cells": [
  {
   "cell_type": "code",
   "execution_count": 52,
   "metadata": {
    "collapsed": true
   },
   "outputs": [
    {
     "name": "stderr",
     "output_type": "stream",
     "text": [
      "WARNING: using DataStructures.tail in module Main conflicts with an existing identifier.\n",
      "WARNING: using DataStructures.head in module Main conflicts with an existing identifier.\n"
     ]
    }
   ],
   "source": [
    "using CSV, DataFrames; rd, wr = CSV.read, CSV.write\n",
    "using JSON, GeoJSON, GeoInterface, LibGEOS\n",
    "using StatsBase, DataStructures"
   ]
  },
  {
   "cell_type": "code",
   "execution_count": 23,
   "metadata": {
    "collapsed": true
   },
   "outputs": [
    {
     "data": {
      "text/plain": [
       "176-element Array{Symbol,1}:\n",
       " :DBN\n",
       " Symbol(\"School Name\")\n",
       " Symbol(\"School Type\")\n",
       " Symbol(\"Student Achievement - Section Rating\")\n",
       " Symbol(\"Student Achievement - Section Score\")\n",
       " Symbol(\"Metric Rating - 10+ Credits in 1st Year - All Students\")\n",
       " Symbol(\"N count - 10+ Credits in 1st Year - All Students\")\n",
       " Symbol(\"Metric Value - 10+ Credits in 1st Year - All Students\")\n",
       " Symbol(\"Approaching Target For 2019 - 10+ Credits in 1st Year - All Students\")\n",
       " Symbol(\"Meeting Target For 2019 - 10+ Credits in 1st Year - All Students\")\n",
       " Symbol(\"Exceeding Target For 2019 - 10+ Credits in 1st Year - All Students\")\n",
       " Symbol(\"Metric Score - 10+ Credits in 1st Year - All Students\")\n",
       " Symbol(\"Comparison Group - 10+ Credits in 1st Year - All Students\")\n",
       " ⋮\n",
       " Symbol(\"Exceeding Target For 2019 - 4-Year College Readiness Index\")\n",
       " Symbol(\"Metric Score - 4-Year College Readiness Index\")\n",
       " Symbol(\"Comparison Group - 4-Year College Readiness Index\")\n",
       " Symbol(\"Metric Rating - 6-Year College Readiness Index\")\n",
       " Symbol(\"N count - 6-Year College Readiness Index\")\n",
       " Symbol(\"Metric Value - 6-Year College Readiness Index\")\n",
       " Symbol(\"Approaching Target For 2019 - 6-Year College Readiness Index\")\n",
       " Symbol(\"Meeting Target For 2019 - 6-Year College Readiness Index\")\n",
       " Symbol(\"Exceeding Target For 2019 - 6-Year College Readiness Index\")\n",
       " Symbol(\"Metric Score - 6-Year College Readiness Index\")\n",
       " Symbol(\"Comparison Group - 6-Year College Readiness Index\")\n",
       " Symbol(\"Percentage of Students with 90%+ Attendance\")"
      ]
     },
     "execution_count": 23,
     "metadata": {},
     "output_type": "execute_result"
    }
   ],
   "source": [
    "ctracts = rd(\"../../data/info/ctracts.csv\") |> DataFrame; tracts = ctracts[:,:tract]\n",
    "schools = rd(\"../../data/school/hs-directory.csv\") |> DataFrame; codes = schools[:,:dbn]\n",
    "achieve = rd(\"../../data/school/2019-student-achievement.csv\") |> DataFrame; names(achieve)"
   ]
  },
  {
   "cell_type": "code",
   "execution_count": 32,
   "metadata": {},
   "outputs": [],
   "source": [
    "A = Set(achieve[:,:DBN]); C = Set(codes); AnC = A ∩ C;\n",
    "ainds = findall(c -> !(c in AnC), achieve[:,:DBN])\n",
    "sinds = findall(c -> !(c in AnC), codes)\n",
    "deleterows!(achieve,ainds); deleterows!(schools,sinds)\n",
    "@assert nrow(achieve) == nrow(schools)"
   ]
  },
  {
   "cell_type": "code",
   "execution_count": null,
   "metadata": {},
   "outputs": [],
   "source": [
    "sort!(achieve, [:DBN]); sort!(schools, [:dbn])"
   ]
  },
  {
   "cell_type": "code",
   "execution_count": 57,
   "metadata": {
    "collapsed": true
   },
   "outputs": [
    {
     "data": {
      "text/html": [
       "<table class=\"data-frame\"><thead><tr><th></th><th>dbn</th><th>score</th><th>geometry</th></tr><tr><th></th><th>String</th><th>Float64</th><th>String</th></tr></thead><tbody><p>6 rows × 3 columns</p><tr><th>1</th><td>16K498</td><td>3.89</td><td>POINT (-73.9209060000000022 40.6888310000000004)</td></tr><tr><th>2</th><td>17K524</td><td>4.11</td><td>POINT (-73.9616950000000060 40.6703490000000016)</td></tr><tr><th>3</th><td>02M531</td><td>3.99</td><td>POINT (-73.9843819999999965 40.7558429999999987)</td></tr><tr><th>4</th><td>05M670</td><td>3.27</td><td>POINT (-73.9442020000000042 40.8155089999999987)</td></tr><tr><th>5</th><td>03M291</td><td>4.66</td><td>POINT (-73.9874789999999933 40.7720070000000021)</td></tr><tr><th>6</th><td>24Q299</td><td>4.49</td><td>POINT (-73.9366349999999954 40.7450949999999992)</td></tr></tbody></table>"
      ],
      "text/latex": [
       "\\begin{tabular}{r|ccc}\n",
       "\t& dbn & score & geometry\\\\\n",
       "\t\\hline\n",
       "\t& String & Float64 & String\\\\\n",
       "\t\\hline\n",
       "\t1 & 16K498 & 3.89 & POINT (-73.9209060000000022 40.6888310000000004) \\\\\n",
       "\t2 & 17K524 & 4.11 & POINT (-73.9616950000000060 40.6703490000000016) \\\\\n",
       "\t3 & 02M531 & 3.99 & POINT (-73.9843819999999965 40.7558429999999987) \\\\\n",
       "\t4 & 05M670 & 3.27 & POINT (-73.9442020000000042 40.8155089999999987) \\\\\n",
       "\t5 & 03M291 & 4.66 & POINT (-73.9874789999999933 40.7720070000000021) \\\\\n",
       "\t6 & 24Q299 & 4.49 & POINT (-73.9366349999999954 40.7450949999999992) \\\\\n",
       "\\end{tabular}\n"
      ],
      "text/plain": [
       "6×3 DataFrame\n",
       "│ Row │ dbn    │ score   │ geometry                                         │\n",
       "│     │ \u001b[90mString\u001b[39m │ \u001b[90mFloat64\u001b[39m │ \u001b[90mString\u001b[39m                                           │\n",
       "├─────┼────────┼─────────┼──────────────────────────────────────────────────┤\n",
       "│ 1   │ 16K498 │ 3.89    │ POINT (-73.9209060000000022 40.6888310000000004) │\n",
       "│ 2   │ 17K524 │ 4.11    │ POINT (-73.9616950000000060 40.6703490000000016) │\n",
       "│ 3   │ 02M531 │ 3.99    │ POINT (-73.9843819999999965 40.7558429999999987) │\n",
       "│ 4   │ 05M670 │ 3.27    │ POINT (-73.9442020000000042 40.8155089999999987) │\n",
       "│ 5   │ 03M291 │ 4.66    │ POINT (-73.9874789999999933 40.7720070000000021) │\n",
       "│ 6   │ 24Q299 │ 4.49    │ POINT (-73.9366349999999954 40.7450949999999992) │"
      ]
     },
     "execution_count": 57,
     "metadata": {},
     "output_type": "execute_result"
    }
   ],
   "source": [
    "ptr = [LibGEOS.Point(schools[i,:Longitude],schools[i,:Latitude]) for i in 1:nrow(schools)]\n",
    "pts = LibGEOS.writegeom.(ptr)\n",
    "ratings = DataFrame(:dbn => schools[:,:dbn],\n",
    "                    :score => achieve[:,Symbol(\"Student Achievement - Section Score\")],\n",
    "                    :geometry => pts); first(ratings,6)"
   ]
  },
  {
   "cell_type": "code",
   "execution_count": 62,
   "metadata": {},
   "outputs": [
    {
     "name": "stderr",
     "output_type": "stream",
     "text": [
      "┌ Warning: 3070203 not found....\n",
      "└ @ Main In[62]:14\n",
      "┌ Warning: 4107202 not found....\n",
      "└ @ Main In[62]:14\n",
      "┌ Warning: 5990100 not found....\n",
      "└ @ Main In[62]:14\n"
     ]
    }
   ],
   "source": [
    "dbns = ratings[:,:dbn]; scores = ratings[:,:score]; geoms = ratings[:,:geometry]\n",
    "for tract in tracts\n",
    "    S = OrderedDict([(dbn => NaN) for dbn in dbns]...)\n",
    "    try\n",
    "        J = JSON.Parser.parsefile(\"../python/jsons/$tract.json\")\n",
    "        R = J[\"results\"][1]; L = R[\"locations\"]\n",
    "        for l ∈ L\n",
    "            dbn = l[\"id\"]\n",
    "            if dbn ∈ dbns\n",
    "                S[dbn] = l[\"properties\"][1][\"travel_time\"] / 60\n",
    "            end\n",
    "        end\n",
    "    catch\n",
    "        @warn \"$tract not found....\"\n",
    "    end\n",
    "    D = DataFrame(:dbn => dbns, :score => scores, \n",
    "                    :travel_time => collect(values(S)), :geom => geoms)\n",
    "    D |> wr(\"csvs/$tract.csv\")\n",
    "end"
   ]
  }
 ],
 "metadata": {
  "kernelspec": {
   "display_name": "Julia 1.4.0",
   "language": "julia",
   "name": "julia-1.4"
  },
  "language_info": {
   "file_extension": ".jl",
   "mimetype": "application/julia",
   "name": "julia",
   "version": "1.4.0"
  }
 },
 "nbformat": 4,
 "nbformat_minor": 2
}
