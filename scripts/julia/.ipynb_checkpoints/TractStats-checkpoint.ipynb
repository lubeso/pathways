{
 "cells": [
  {
   "cell_type": "code",
   "execution_count": 39,
   "metadata": {},
   "outputs": [],
   "source": [
    "using CSV, DataFrames; rd, wr = CSV.read, CSV.write\n",
    "using DataStructures\n",
    "using Statistics"
   ]
  },
  {
   "cell_type": "code",
   "execution_count": 3,
   "metadata": {
    "collapsed": true
   },
   "outputs": [
    {
     "data": {
      "text/html": [
       "<table class=\"data-frame\"><thead><tr><th></th><th>NAME</th><th>Total</th><th>&lt;$10,000</th><th>$10,000-$14,999</th></tr><tr><th></th><th>String</th><th>Int64</th><th>Int64</th><th>Int64</th></tr></thead><tbody><p>2,167 rows × 21 columns (omitted printing of 17 columns)</p><tr><th>1</th><td>Census Tract 1, New York County, New York</td><td>0</td><td>0</td><td>0</td></tr><tr><th>2</th><td>Census Tract 2.01, New York County, New York</td><td>978</td><td>248</td><td>101</td></tr><tr><th>3</th><td>Census Tract 2.02, New York County, New York</td><td>3541</td><td>603</td><td>166</td></tr><tr><th>4</th><td>Census Tract 5, New York County, New York</td><td>0</td><td>0</td><td>0</td></tr><tr><th>5</th><td>Census Tract 6, New York County, New York</td><td>4161</td><td>1011</td><td>823</td></tr><tr><th>6</th><td>Census Tract 7, New York County, New York</td><td>4511</td><td>352</td><td>80</td></tr><tr><th>7</th><td>Census Tract 8, New York County, New York</td><td>3431</td><td>352</td><td>416</td></tr><tr><th>8</th><td>Census Tract 9, New York County, New York</td><td>843</td><td>25</td><td>5</td></tr><tr><th>9</th><td>Census Tract 10.01, New York County, New York</td><td>790</td><td>62</td><td>42</td></tr><tr><th>10</th><td>Census Tract 10.02, New York County, New York</td><td>2389</td><td>420</td><td>648</td></tr><tr><th>11</th><td>Census Tract 12, New York County, New York</td><td>1870</td><td>283</td><td>157</td></tr><tr><th>12</th><td>Census Tract 13, New York County, New York</td><td>2470</td><td>117</td><td>62</td></tr><tr><th>13</th><td>Census Tract 14.01, New York County, New York</td><td>1676</td><td>68</td><td>107</td></tr><tr><th>14</th><td>Census Tract 14.02, New York County, New York</td><td>1378</td><td>222</td><td>159</td></tr><tr><th>15</th><td>Census Tract 15.01, New York County, New York</td><td>3693</td><td>378</td><td>171</td></tr><tr><th>16</th><td>Census Tract 15.02, New York County, New York</td><td>3138</td><td>134</td><td>30</td></tr><tr><th>17</th><td>Census Tract 16, New York County, New York</td><td>2899</td><td>333</td><td>423</td></tr><tr><th>18</th><td>Census Tract 18, New York County, New York</td><td>3120</td><td>559</td><td>176</td></tr><tr><th>19</th><td>Census Tract 20, New York County, New York</td><td>1955</td><td>545</td><td>409</td></tr><tr><th>20</th><td>Census Tract 21, New York County, New York</td><td>2744</td><td>63</td><td>49</td></tr><tr><th>21</th><td>Census Tract 22.01, New York County, New York</td><td>2998</td><td>518</td><td>437</td></tr><tr><th>22</th><td>Census Tract 22.02, New York County, New York</td><td>1077</td><td>118</td><td>41</td></tr><tr><th>23</th><td>Census Tract 24, New York County, New York</td><td>2122</td><td>498</td><td>369</td></tr><tr><th>24</th><td>Census Tract 25, New York County, New York</td><td>2035</td><td>496</td><td>432</td></tr><tr><th>25</th><td>Census Tract 26.01, New York County, New York</td><td>1583</td><td>169</td><td>164</td></tr><tr><th>26</th><td>Census Tract 26.02, New York County, New York</td><td>2118</td><td>234</td><td>211</td></tr><tr><th>27</th><td>Census Tract 27, New York County, New York</td><td>627</td><td>100</td><td>40</td></tr><tr><th>28</th><td>Census Tract 28, New York County, New York</td><td>3380</td><td>398</td><td>378</td></tr><tr><th>29</th><td>Census Tract 29, New York County, New York</td><td>2281</td><td>345</td><td>234</td></tr><tr><th>30</th><td>Census Tract 30.01, New York County, New York</td><td>2322</td><td>179</td><td>107</td></tr><tr><th>&vellip;</th><td>&vellip;</td><td>&vellip;</td><td>&vellip;</td><td>&vellip;</td></tr></tbody></table>"
      ],
      "text/latex": [
       "\\begin{tabular}{r|ccccc}\n",
       "\t& NAME & Total & <\\$10,000 & \\$10,000-\\$14,999 & \\\\\n",
       "\t\\hline\n",
       "\t& String & Int64 & Int64 & Int64 & \\\\\n",
       "\t\\hline\n",
       "\t1 & Census Tract 1, New York County, New York & 0 & 0 & 0 & $\\dots$ \\\\\n",
       "\t2 & Census Tract 2.01, New York County, New York & 978 & 248 & 101 & $\\dots$ \\\\\n",
       "\t3 & Census Tract 2.02, New York County, New York & 3541 & 603 & 166 & $\\dots$ \\\\\n",
       "\t4 & Census Tract 5, New York County, New York & 0 & 0 & 0 & $\\dots$ \\\\\n",
       "\t5 & Census Tract 6, New York County, New York & 4161 & 1011 & 823 & $\\dots$ \\\\\n",
       "\t6 & Census Tract 7, New York County, New York & 4511 & 352 & 80 & $\\dots$ \\\\\n",
       "\t7 & Census Tract 8, New York County, New York & 3431 & 352 & 416 & $\\dots$ \\\\\n",
       "\t8 & Census Tract 9, New York County, New York & 843 & 25 & 5 & $\\dots$ \\\\\n",
       "\t9 & Census Tract 10.01, New York County, New York & 790 & 62 & 42 & $\\dots$ \\\\\n",
       "\t10 & Census Tract 10.02, New York County, New York & 2389 & 420 & 648 & $\\dots$ \\\\\n",
       "\t11 & Census Tract 12, New York County, New York & 1870 & 283 & 157 & $\\dots$ \\\\\n",
       "\t12 & Census Tract 13, New York County, New York & 2470 & 117 & 62 & $\\dots$ \\\\\n",
       "\t13 & Census Tract 14.01, New York County, New York & 1676 & 68 & 107 & $\\dots$ \\\\\n",
       "\t14 & Census Tract 14.02, New York County, New York & 1378 & 222 & 159 & $\\dots$ \\\\\n",
       "\t15 & Census Tract 15.01, New York County, New York & 3693 & 378 & 171 & $\\dots$ \\\\\n",
       "\t16 & Census Tract 15.02, New York County, New York & 3138 & 134 & 30 & $\\dots$ \\\\\n",
       "\t17 & Census Tract 16, New York County, New York & 2899 & 333 & 423 & $\\dots$ \\\\\n",
       "\t18 & Census Tract 18, New York County, New York & 3120 & 559 & 176 & $\\dots$ \\\\\n",
       "\t19 & Census Tract 20, New York County, New York & 1955 & 545 & 409 & $\\dots$ \\\\\n",
       "\t20 & Census Tract 21, New York County, New York & 2744 & 63 & 49 & $\\dots$ \\\\\n",
       "\t21 & Census Tract 22.01, New York County, New York & 2998 & 518 & 437 & $\\dots$ \\\\\n",
       "\t22 & Census Tract 22.02, New York County, New York & 1077 & 118 & 41 & $\\dots$ \\\\\n",
       "\t23 & Census Tract 24, New York County, New York & 2122 & 498 & 369 & $\\dots$ \\\\\n",
       "\t24 & Census Tract 25, New York County, New York & 2035 & 496 & 432 & $\\dots$ \\\\\n",
       "\t25 & Census Tract 26.01, New York County, New York & 1583 & 169 & 164 & $\\dots$ \\\\\n",
       "\t26 & Census Tract 26.02, New York County, New York & 2118 & 234 & 211 & $\\dots$ \\\\\n",
       "\t27 & Census Tract 27, New York County, New York & 627 & 100 & 40 & $\\dots$ \\\\\n",
       "\t28 & Census Tract 28, New York County, New York & 3380 & 398 & 378 & $\\dots$ \\\\\n",
       "\t29 & Census Tract 29, New York County, New York & 2281 & 345 & 234 & $\\dots$ \\\\\n",
       "\t30 & Census Tract 30.01, New York County, New York & 2322 & 179 & 107 & $\\dots$ \\\\\n",
       "\t$\\dots$ & $\\dots$ & $\\dots$ & $\\dots$ & $\\dots$ &  \\\\\n",
       "\\end{tabular}\n"
      ],
      "text/plain": [
       "2167×21 DataFrame. Omitted printing of 18 columns\n",
       "│ Row  │ NAME                                           │ Total │ <$10,000 │\n",
       "│      │ \u001b[90mString\u001b[39m                                         │ \u001b[90mInt64\u001b[39m │ \u001b[90mInt64\u001b[39m    │\n",
       "├──────┼────────────────────────────────────────────────┼───────┼──────────┤\n",
       "│ 1    │ Census Tract 1, New York County, New York      │ 0     │ 0        │\n",
       "│ 2    │ Census Tract 2.01, New York County, New York   │ 978   │ 248      │\n",
       "│ 3    │ Census Tract 2.02, New York County, New York   │ 3541  │ 603      │\n",
       "│ 4    │ Census Tract 5, New York County, New York      │ 0     │ 0        │\n",
       "│ 5    │ Census Tract 6, New York County, New York      │ 4161  │ 1011     │\n",
       "│ 6    │ Census Tract 7, New York County, New York      │ 4511  │ 352      │\n",
       "│ 7    │ Census Tract 8, New York County, New York      │ 3431  │ 352      │\n",
       "│ 8    │ Census Tract 9, New York County, New York      │ 843   │ 25       │\n",
       "│ 9    │ Census Tract 10.01, New York County, New York  │ 790   │ 62       │\n",
       "│ 10   │ Census Tract 10.02, New York County, New York  │ 2389  │ 420      │\n",
       "⋮\n",
       "│ 2157 │ Census Tract 277.06, Richmond County, New York │ 1155  │ 25       │\n",
       "│ 2158 │ Census Tract 279, Richmond County, New York    │ 640   │ 34       │\n",
       "│ 2159 │ Census Tract 291.02, Richmond County, New York │ 954   │ 21       │\n",
       "│ 2160 │ Census Tract 291.03, Richmond County, New York │ 2602  │ 84       │\n",
       "│ 2161 │ Census Tract 291.04, Richmond County, New York │ 2383  │ 143      │\n",
       "│ 2162 │ Census Tract 303.01, Richmond County, New York │ 1817  │ 99       │\n",
       "│ 2163 │ Census Tract 303.02, Richmond County, New York │ 1962  │ 179      │\n",
       "│ 2164 │ Census Tract 319.01, Richmond County, New York │ 1038  │ 354      │\n",
       "│ 2165 │ Census Tract 319.02, Richmond County, New York │ 1588  │ 575      │\n",
       "│ 2166 │ Census Tract 323, Richmond County, New York    │ 499   │ 128      │\n",
       "│ 2167 │ Census Tract 9901, Richmond County, New York   │ 0     │ 0        │"
      ]
     },
     "execution_count": 3,
     "metadata": {},
     "output_type": "execute_result"
    }
   ],
   "source": [
    "ctrace = rd(\"../../data/info/ctrace.csv\")\n",
    "ctenrl = rd(\"../../data/info/ctenroll.csv\")\n",
    "ctincm = rd(\"../../data/info/ctincome.csv\")"
   ]
  },
  {
   "cell_type": "code",
   "execution_count": 9,
   "metadata": {},
   "outputs": [
    {
     "data": {
      "text/plain": [
       "12-element Array{Symbol,1}:\n",
       " :NAME\n",
       " :Total\n",
       " :White\n",
       " :Black\n",
       " :Indigenous\n",
       " :Asian\n",
       " Symbol(\"Pacific Islander\")\n",
       " :Other\n",
       " :Multiracial\n",
       " :state\n",
       " :county\n",
       " :tract"
      ]
     },
     "execution_count": 9,
     "metadata": {},
     "output_type": "execute_result"
    }
   ],
   "source": [
    "names(ctrace)"
   ]
  },
  {
   "cell_type": "code",
   "execution_count": 25,
   "metadata": {
    "collapsed": true
   },
   "outputs": [
    {
     "data": {
      "text/html": [
       "<table class=\"data-frame\"><thead><tr><th></th><th>name</th><th>White</th><th>Black</th><th>Indigenous</th></tr><tr><th></th><th>String</th><th>Float64</th><th>Float64</th><th>Float64</th></tr></thead><tbody><p>2,167 rows × 9 columns (omitted printing of 5 columns)</p><tr><th>1</th><td>Census Tract 1, New York County, New York</td><td>NaN</td><td>NaN</td><td>NaN</td></tr><tr><th>2</th><td>Census Tract 2.01, New York County, New York</td><td>0.276404</td><td>0.058427</td><td>0.0</td></tr><tr><th>3</th><td>Census Tract 2.02, New York County, New York</td><td>0.362151</td><td>0.16754</td><td>0.0</td></tr><tr><th>4</th><td>Census Tract 5, New York County, New York</td><td>NaN</td><td>NaN</td><td>NaN</td></tr><tr><th>5</th><td>Census Tract 6, New York County, New York</td><td>0.125035</td><td>0.0859266</td><td>0.0119833</td></tr><tr><th>6</th><td>Census Tract 7, New York County, New York</td><td>0.718917</td><td>0.0224245</td><td>0.0</td></tr><tr><th>7</th><td>Census Tract 8, New York County, New York</td><td>0.105925</td><td>0.00967846</td><td>0.00161308</td></tr><tr><th>8</th><td>Census Tract 9, New York County, New York</td><td>0.745528</td><td>0.0294287</td><td>0.0</td></tr><tr><th>9</th><td>Census Tract 10.01, New York County, New York</td><td>0.73468</td><td>0.0289562</td><td>0.0</td></tr><tr><th>10</th><td>Census Tract 10.02, New York County, New York</td><td>0.218311</td><td>0.211203</td><td>0.00321543</td></tr><tr><th>11</th><td>Census Tract 12, New York County, New York</td><td>0.571927</td><td>0.0303274</td><td>0.0</td></tr><tr><th>12</th><td>Census Tract 13, New York County, New York</td><td>0.684153</td><td>0.02689</td><td>0.0</td></tr><tr><th>13</th><td>Census Tract 14.01, New York County, New York</td><td>0.767115</td><td>0.00875274</td><td>0.0</td></tr><tr><th>14</th><td>Census Tract 14.02, New York County, New York</td><td>0.387664</td><td>0.0485872</td><td>0.0</td></tr><tr><th>15</th><td>Census Tract 15.01, New York County, New York</td><td>0.641139</td><td>0.0559245</td><td>0.00221337</td></tr><tr><th>16</th><td>Census Tract 15.02, New York County, New York</td><td>0.694204</td><td>0.0260746</td><td>0.00335614</td></tr><tr><th>17</th><td>Census Tract 16, New York County, New York</td><td>0.175371</td><td>0.0216096</td><td>0.0</td></tr><tr><th>18</th><td>Census Tract 18, New York County, New York</td><td>0.329371</td><td>0.0534351</td><td>0.0</td></tr><tr><th>19</th><td>Census Tract 20, New York County, New York</td><td>0.225847</td><td>0.223941</td><td>0.0</td></tr><tr><th>20</th><td>Census Tract 21, New York County, New York</td><td>0.784371</td><td>0.0152589</td><td>0.0</td></tr><tr><th>21</th><td>Census Tract 22.01, New York County, New York</td><td>0.301405</td><td>0.192789</td><td>0.00504125</td></tr><tr><th>22</th><td>Census Tract 22.02, New York County, New York</td><td>0.614352</td><td>0.0588539</td><td>0.00567888</td></tr><tr><th>23</th><td>Census Tract 24, New York County, New York</td><td>0.319352</td><td>0.146118</td><td>0.0</td></tr><tr><th>24</th><td>Census Tract 25, New York County, New York</td><td>0.164376</td><td>0.254189</td><td>0.0</td></tr><tr><th>25</th><td>Census Tract 26.01, New York County, New York</td><td>0.416043</td><td>0.111621</td><td>0.00314086</td></tr><tr><th>26</th><td>Census Tract 26.02, New York County, New York</td><td>0.598741</td><td>0.0375379</td><td>0.0107251</td></tr><tr><th>27</th><td>Census Tract 27, New York County, New York</td><td>0.148571</td><td>0.00642857</td><td>0.0107143</td></tr><tr><th>28</th><td>Census Tract 28, New York County, New York</td><td>0.394158</td><td>0.170652</td><td>0.00122283</td></tr><tr><th>29</th><td>Census Tract 29, New York County, New York</td><td>0.138134</td><td>0.142717</td><td>0.00163666</td></tr><tr><th>30</th><td>Census Tract 30.01, New York County, New York</td><td>0.640509</td><td>0.0218383</td><td>0.0</td></tr><tr><th>&vellip;</th><td>&vellip;</td><td>&vellip;</td><td>&vellip;</td><td>&vellip;</td></tr></tbody></table>"
      ],
      "text/latex": [
       "\\begin{tabular}{r|ccccc}\n",
       "\t& name & White & Black & Indigenous & \\\\\n",
       "\t\\hline\n",
       "\t& String & Float64 & Float64 & Float64 & \\\\\n",
       "\t\\hline\n",
       "\t1 & Census Tract 1, New York County, New York & NaN & NaN & NaN & $\\dots$ \\\\\n",
       "\t2 & Census Tract 2.01, New York County, New York & 0.276404 & 0.058427 & 0.0 & $\\dots$ \\\\\n",
       "\t3 & Census Tract 2.02, New York County, New York & 0.362151 & 0.16754 & 0.0 & $\\dots$ \\\\\n",
       "\t4 & Census Tract 5, New York County, New York & NaN & NaN & NaN & $\\dots$ \\\\\n",
       "\t5 & Census Tract 6, New York County, New York & 0.125035 & 0.0859266 & 0.0119833 & $\\dots$ \\\\\n",
       "\t6 & Census Tract 7, New York County, New York & 0.718917 & 0.0224245 & 0.0 & $\\dots$ \\\\\n",
       "\t7 & Census Tract 8, New York County, New York & 0.105925 & 0.00967846 & 0.00161308 & $\\dots$ \\\\\n",
       "\t8 & Census Tract 9, New York County, New York & 0.745528 & 0.0294287 & 0.0 & $\\dots$ \\\\\n",
       "\t9 & Census Tract 10.01, New York County, New York & 0.73468 & 0.0289562 & 0.0 & $\\dots$ \\\\\n",
       "\t10 & Census Tract 10.02, New York County, New York & 0.218311 & 0.211203 & 0.00321543 & $\\dots$ \\\\\n",
       "\t11 & Census Tract 12, New York County, New York & 0.571927 & 0.0303274 & 0.0 & $\\dots$ \\\\\n",
       "\t12 & Census Tract 13, New York County, New York & 0.684153 & 0.02689 & 0.0 & $\\dots$ \\\\\n",
       "\t13 & Census Tract 14.01, New York County, New York & 0.767115 & 0.00875274 & 0.0 & $\\dots$ \\\\\n",
       "\t14 & Census Tract 14.02, New York County, New York & 0.387664 & 0.0485872 & 0.0 & $\\dots$ \\\\\n",
       "\t15 & Census Tract 15.01, New York County, New York & 0.641139 & 0.0559245 & 0.00221337 & $\\dots$ \\\\\n",
       "\t16 & Census Tract 15.02, New York County, New York & 0.694204 & 0.0260746 & 0.00335614 & $\\dots$ \\\\\n",
       "\t17 & Census Tract 16, New York County, New York & 0.175371 & 0.0216096 & 0.0 & $\\dots$ \\\\\n",
       "\t18 & Census Tract 18, New York County, New York & 0.329371 & 0.0534351 & 0.0 & $\\dots$ \\\\\n",
       "\t19 & Census Tract 20, New York County, New York & 0.225847 & 0.223941 & 0.0 & $\\dots$ \\\\\n",
       "\t20 & Census Tract 21, New York County, New York & 0.784371 & 0.0152589 & 0.0 & $\\dots$ \\\\\n",
       "\t21 & Census Tract 22.01, New York County, New York & 0.301405 & 0.192789 & 0.00504125 & $\\dots$ \\\\\n",
       "\t22 & Census Tract 22.02, New York County, New York & 0.614352 & 0.0588539 & 0.00567888 & $\\dots$ \\\\\n",
       "\t23 & Census Tract 24, New York County, New York & 0.319352 & 0.146118 & 0.0 & $\\dots$ \\\\\n",
       "\t24 & Census Tract 25, New York County, New York & 0.164376 & 0.254189 & 0.0 & $\\dots$ \\\\\n",
       "\t25 & Census Tract 26.01, New York County, New York & 0.416043 & 0.111621 & 0.00314086 & $\\dots$ \\\\\n",
       "\t26 & Census Tract 26.02, New York County, New York & 0.598741 & 0.0375379 & 0.0107251 & $\\dots$ \\\\\n",
       "\t27 & Census Tract 27, New York County, New York & 0.148571 & 0.00642857 & 0.0107143 & $\\dots$ \\\\\n",
       "\t28 & Census Tract 28, New York County, New York & 0.394158 & 0.170652 & 0.00122283 & $\\dots$ \\\\\n",
       "\t29 & Census Tract 29, New York County, New York & 0.138134 & 0.142717 & 0.00163666 & $\\dots$ \\\\\n",
       "\t30 & Census Tract 30.01, New York County, New York & 0.640509 & 0.0218383 & 0.0 & $\\dots$ \\\\\n",
       "\t$\\dots$ & $\\dots$ & $\\dots$ & $\\dots$ & $\\dots$ &  \\\\\n",
       "\\end{tabular}\n"
      ],
      "text/plain": [
       "2167×9 DataFrame. Omitted printing of 7 columns\n",
       "│ Row  │ name                                           │ White    │\n",
       "│      │ \u001b[90mString\u001b[39m                                         │ \u001b[90mFloat64\u001b[39m  │\n",
       "├──────┼────────────────────────────────────────────────┼──────────┤\n",
       "│ 1    │ Census Tract 1, New York County, New York      │ NaN      │\n",
       "│ 2    │ Census Tract 2.01, New York County, New York   │ 0.276404 │\n",
       "│ 3    │ Census Tract 2.02, New York County, New York   │ 0.362151 │\n",
       "│ 4    │ Census Tract 5, New York County, New York      │ NaN      │\n",
       "│ 5    │ Census Tract 6, New York County, New York      │ 0.125035 │\n",
       "│ 6    │ Census Tract 7, New York County, New York      │ 0.718917 │\n",
       "│ 7    │ Census Tract 8, New York County, New York      │ 0.105925 │\n",
       "│ 8    │ Census Tract 9, New York County, New York      │ 0.745528 │\n",
       "│ 9    │ Census Tract 10.01, New York County, New York  │ 0.73468  │\n",
       "│ 10   │ Census Tract 10.02, New York County, New York  │ 0.218311 │\n",
       "⋮\n",
       "│ 2157 │ Census Tract 277.06, Richmond County, New York │ 0.684361 │\n",
       "│ 2158 │ Census Tract 279, Richmond County, New York    │ 0.920263 │\n",
       "│ 2159 │ Census Tract 291.02, Richmond County, New York │ 0.794421 │\n",
       "│ 2160 │ Census Tract 291.03, Richmond County, New York │ 0.87627  │\n",
       "│ 2161 │ Census Tract 291.04, Richmond County, New York │ 0.848213 │\n",
       "│ 2162 │ Census Tract 303.01, Richmond County, New York │ 0.587503 │\n",
       "│ 2163 │ Census Tract 303.02, Richmond County, New York │ 0.54396  │\n",
       "│ 2164 │ Census Tract 319.01, Richmond County, New York │ 0.24883  │\n",
       "│ 2165 │ Census Tract 319.02, Richmond County, New York │ 0.298214 │\n",
       "│ 2166 │ Census Tract 323, Richmond County, New York    │ 0.406404 │\n",
       "│ 2167 │ Census Tract 9901, Richmond County, New York   │ NaN      │"
      ]
     },
     "execution_count": 25,
     "metadata": {},
     "output_type": "execute_result"
    }
   ],
   "source": [
    "# race statistics\n",
    "races = names(ctrace)[3:9]\n",
    "race_prcnt = OrderedDict((:name => ctrace[:,:NAME]),\n",
    "                    [(race => ctrace[:,race] ./ ctrace[:,:Total]) for race in races]...,\n",
    "                    (:tract => ctrace[:,:tract]))\n",
    "ctrace_prcnt = DataFrame(race_prcnt)"
   ]
  },
  {
   "cell_type": "code",
   "execution_count": 72,
   "metadata": {},
   "outputs": [
    {
     "data": {
      "text/plain": [
       "\"../../data/info/ctrace-percent.csv\""
      ]
     },
     "execution_count": 72,
     "metadata": {},
     "output_type": "execute_result"
    }
   ],
   "source": [
    "ctrace_prcnt |> wr(\"../../data/info/ctrace-percent.csv\")"
   ]
  },
  {
   "cell_type": "code",
   "execution_count": 75,
   "metadata": {
    "collapsed": true
   },
   "outputs": [
    {
     "data": {
      "text/html": [
       "<table class=\"data-frame\"><thead><tr><th></th><th>name</th><th>public</th><th>private</th><th>tract</th></tr><tr><th></th><th>String</th><th>Int64</th><th>Int64</th><th>Int64</th></tr></thead><tbody><p>2,167 rows × 4 columns</p><tr><th>1</th><td>Census Tract 1, New York County, New York</td><td>0</td><td>0</td><td>1000100</td></tr><tr><th>2</th><td>Census Tract 2.01, New York County, New York</td><td>141</td><td>0</td><td>1000201</td></tr><tr><th>3</th><td>Census Tract 2.02, New York County, New York</td><td>255</td><td>32</td><td>1000202</td></tr><tr><th>4</th><td>Census Tract 5, New York County, New York</td><td>0</td><td>0</td><td>1000500</td></tr><tr><th>5</th><td>Census Tract 6, New York County, New York</td><td>462</td><td>0</td><td>1000600</td></tr><tr><th>6</th><td>Census Tract 7, New York County, New York</td><td>118</td><td>0</td><td>1000700</td></tr><tr><th>7</th><td>Census Tract 8, New York County, New York</td><td>374</td><td>33</td><td>1000800</td></tr><tr><th>8</th><td>Census Tract 9, New York County, New York</td><td>24</td><td>0</td><td>1000900</td></tr><tr><th>9</th><td>Census Tract 10.01, New York County, New York</td><td>23</td><td>6</td><td>1001001</td></tr><tr><th>10</th><td>Census Tract 10.02, New York County, New York</td><td>313</td><td>0</td><td>1001002</td></tr><tr><th>11</th><td>Census Tract 12, New York County, New York</td><td>64</td><td>17</td><td>1001200</td></tr><tr><th>12</th><td>Census Tract 13, New York County, New York</td><td>61</td><td>12</td><td>1001300</td></tr><tr><th>13</th><td>Census Tract 14.01, New York County, New York</td><td>82</td><td>7</td><td>1001401</td></tr><tr><th>14</th><td>Census Tract 14.02, New York County, New York</td><td>56</td><td>38</td><td>1001402</td></tr><tr><th>15</th><td>Census Tract 15.01, New York County, New York</td><td>22</td><td>18</td><td>1001501</td></tr><tr><th>16</th><td>Census Tract 15.02, New York County, New York</td><td>92</td><td>12</td><td>1001502</td></tr><tr><th>17</th><td>Census Tract 16, New York County, New York</td><td>128</td><td>17</td><td>1001600</td></tr><tr><th>18</th><td>Census Tract 18, New York County, New York</td><td>113</td><td>0</td><td>1001800</td></tr><tr><th>19</th><td>Census Tract 20, New York County, New York</td><td>227</td><td>15</td><td>1002000</td></tr><tr><th>20</th><td>Census Tract 21, New York County, New York</td><td>81</td><td>120</td><td>1002100</td></tr><tr><th>21</th><td>Census Tract 22.01, New York County, New York</td><td>287</td><td>0</td><td>1002201</td></tr><tr><th>22</th><td>Census Tract 22.02, New York County, New York</td><td>40</td><td>32</td><td>1002202</td></tr><tr><th>23</th><td>Census Tract 24, New York County, New York</td><td>132</td><td>28</td><td>1002400</td></tr><tr><th>24</th><td>Census Tract 25, New York County, New York</td><td>253</td><td>7</td><td>1002500</td></tr><tr><th>25</th><td>Census Tract 26.01, New York County, New York</td><td>172</td><td>51</td><td>1002601</td></tr><tr><th>26</th><td>Census Tract 26.02, New York County, New York</td><td>37</td><td>15</td><td>1002602</td></tr><tr><th>27</th><td>Census Tract 27, New York County, New York</td><td>97</td><td>0</td><td>1002700</td></tr><tr><th>28</th><td>Census Tract 28, New York County, New York</td><td>297</td><td>40</td><td>1002800</td></tr><tr><th>29</th><td>Census Tract 29, New York County, New York</td><td>122</td><td>14</td><td>1002900</td></tr><tr><th>30</th><td>Census Tract 30.01, New York County, New York</td><td>90</td><td>0</td><td>1003001</td></tr><tr><th>&vellip;</th><td>&vellip;</td><td>&vellip;</td><td>&vellip;</td><td>&vellip;</td></tr></tbody></table>"
      ],
      "text/latex": [
       "\\begin{tabular}{r|cccc}\n",
       "\t& name & public & private & tract\\\\\n",
       "\t\\hline\n",
       "\t& String & Int64 & Int64 & Int64\\\\\n",
       "\t\\hline\n",
       "\t1 & Census Tract 1, New York County, New York & 0 & 0 & 1000100 \\\\\n",
       "\t2 & Census Tract 2.01, New York County, New York & 141 & 0 & 1000201 \\\\\n",
       "\t3 & Census Tract 2.02, New York County, New York & 255 & 32 & 1000202 \\\\\n",
       "\t4 & Census Tract 5, New York County, New York & 0 & 0 & 1000500 \\\\\n",
       "\t5 & Census Tract 6, New York County, New York & 462 & 0 & 1000600 \\\\\n",
       "\t6 & Census Tract 7, New York County, New York & 118 & 0 & 1000700 \\\\\n",
       "\t7 & Census Tract 8, New York County, New York & 374 & 33 & 1000800 \\\\\n",
       "\t8 & Census Tract 9, New York County, New York & 24 & 0 & 1000900 \\\\\n",
       "\t9 & Census Tract 10.01, New York County, New York & 23 & 6 & 1001001 \\\\\n",
       "\t10 & Census Tract 10.02, New York County, New York & 313 & 0 & 1001002 \\\\\n",
       "\t11 & Census Tract 12, New York County, New York & 64 & 17 & 1001200 \\\\\n",
       "\t12 & Census Tract 13, New York County, New York & 61 & 12 & 1001300 \\\\\n",
       "\t13 & Census Tract 14.01, New York County, New York & 82 & 7 & 1001401 \\\\\n",
       "\t14 & Census Tract 14.02, New York County, New York & 56 & 38 & 1001402 \\\\\n",
       "\t15 & Census Tract 15.01, New York County, New York & 22 & 18 & 1001501 \\\\\n",
       "\t16 & Census Tract 15.02, New York County, New York & 92 & 12 & 1001502 \\\\\n",
       "\t17 & Census Tract 16, New York County, New York & 128 & 17 & 1001600 \\\\\n",
       "\t18 & Census Tract 18, New York County, New York & 113 & 0 & 1001800 \\\\\n",
       "\t19 & Census Tract 20, New York County, New York & 227 & 15 & 1002000 \\\\\n",
       "\t20 & Census Tract 21, New York County, New York & 81 & 120 & 1002100 \\\\\n",
       "\t21 & Census Tract 22.01, New York County, New York & 287 & 0 & 1002201 \\\\\n",
       "\t22 & Census Tract 22.02, New York County, New York & 40 & 32 & 1002202 \\\\\n",
       "\t23 & Census Tract 24, New York County, New York & 132 & 28 & 1002400 \\\\\n",
       "\t24 & Census Tract 25, New York County, New York & 253 & 7 & 1002500 \\\\\n",
       "\t25 & Census Tract 26.01, New York County, New York & 172 & 51 & 1002601 \\\\\n",
       "\t26 & Census Tract 26.02, New York County, New York & 37 & 15 & 1002602 \\\\\n",
       "\t27 & Census Tract 27, New York County, New York & 97 & 0 & 1002700 \\\\\n",
       "\t28 & Census Tract 28, New York County, New York & 297 & 40 & 1002800 \\\\\n",
       "\t29 & Census Tract 29, New York County, New York & 122 & 14 & 1002900 \\\\\n",
       "\t30 & Census Tract 30.01, New York County, New York & 90 & 0 & 1003001 \\\\\n",
       "\t$\\dots$ & $\\dots$ & $\\dots$ & $\\dots$ & $\\dots$ \\\\\n",
       "\\end{tabular}\n"
      ],
      "text/plain": [
       "2167×4 DataFrame. Omitted printing of 1 columns\n",
       "│ Row  │ name                                           │ public │ private │\n",
       "│      │ \u001b[90mString\u001b[39m                                         │ \u001b[90mInt64\u001b[39m  │ \u001b[90mInt64\u001b[39m   │\n",
       "├──────┼────────────────────────────────────────────────┼────────┼─────────┤\n",
       "│ 1    │ Census Tract 1, New York County, New York      │ 0      │ 0       │\n",
       "│ 2    │ Census Tract 2.01, New York County, New York   │ 141    │ 0       │\n",
       "│ 3    │ Census Tract 2.02, New York County, New York   │ 255    │ 32      │\n",
       "│ 4    │ Census Tract 5, New York County, New York      │ 0      │ 0       │\n",
       "│ 5    │ Census Tract 6, New York County, New York      │ 462    │ 0       │\n",
       "│ 6    │ Census Tract 7, New York County, New York      │ 118    │ 0       │\n",
       "│ 7    │ Census Tract 8, New York County, New York      │ 374    │ 33      │\n",
       "│ 8    │ Census Tract 9, New York County, New York      │ 24     │ 0       │\n",
       "│ 9    │ Census Tract 10.01, New York County, New York  │ 23     │ 6       │\n",
       "│ 10   │ Census Tract 10.02, New York County, New York  │ 313    │ 0       │\n",
       "⋮\n",
       "│ 2157 │ Census Tract 277.06, Richmond County, New York │ 74     │ 59      │\n",
       "│ 2158 │ Census Tract 279, Richmond County, New York    │ 47     │ 70      │\n",
       "│ 2159 │ Census Tract 291.02, Richmond County, New York │ 149    │ 5       │\n",
       "│ 2160 │ Census Tract 291.03, Richmond County, New York │ 297    │ 41      │\n",
       "│ 2161 │ Census Tract 291.04, Richmond County, New York │ 248    │ 173     │\n",
       "│ 2162 │ Census Tract 303.01, Richmond County, New York │ 275    │ 11      │\n",
       "│ 2163 │ Census Tract 303.02, Richmond County, New York │ 210    │ 126     │\n",
       "│ 2164 │ Census Tract 319.01, Richmond County, New York │ 197    │ 0       │\n",
       "│ 2165 │ Census Tract 319.02, Richmond County, New York │ 366    │ 31      │\n",
       "│ 2166 │ Census Tract 323, Richmond County, New York    │ 77     │ 7       │\n",
       "│ 2167 │ Census Tract 9901, Richmond County, New York   │ 0      │ 0       │"
      ]
     },
     "execution_count": 75,
     "metadata": {},
     "output_type": "execute_result"
    }
   ],
   "source": [
    "# enrollment statistics\n",
    "public = (ctenrl[:,Symbol(\"Male (Public)\")] .+ ctenrl[:,Symbol(\"Female (Public)\")])\n",
    "private = (ctenrl[:,Symbol(\"Male (Private)\")] .+ ctenrl[:,Symbol(\"Female (Private)\")])\n",
    "\n",
    "enrl_prcnt = OrderedDict((:name => ctenrl[:,:NAME]),\n",
    "                          (:public => public),(:private => private),\n",
    "                          (:tract => ctenrl[:,:tract]))\n",
    "\n",
    "ctenrl_prcnt = DataFrame(enrl_prcnt)"
   ]
  },
  {
   "cell_type": "code",
   "execution_count": 77,
   "metadata": {},
   "outputs": [
    {
     "data": {
      "text/plain": [
       "\"../../data/info/ctenroll-stats.csv\""
      ]
     },
     "execution_count": 77,
     "metadata": {},
     "output_type": "execute_result"
    }
   ],
   "source": [
    "ctenrl_prcnt |> wr(\"../../data/info/ctenroll-stats.csv\")"
   ]
  },
  {
   "cell_type": "code",
   "execution_count": 69,
   "metadata": {},
   "outputs": [],
   "source": [
    "# income statistics\n",
    "brackets = [Symbol(\"<\\$10,000\"),Symbol(\"\\$10,000-\\$14,999\"),Symbol(\"\\$15,000-\\$19,999\"),\n",
    "            Symbol(\"\\$20,000-\\$24,999\"),Symbol(\"\\$25,000-\\$29,999\"),Symbol(\"\\$30,000-\\$34,999\"),\n",
    "            Symbol(\"\\$35,000-\\$39,999\"),Symbol(\"\\$40,000-\\$44,999\"),Symbol(\"\\$45,000-\\$49,999\"),\n",
    "            Symbol(\"\\$50,000-\\$59,999\"),Symbol(\"\\$60,000-\\$74,999\"),Symbol(\"\\$75,000-\\$99,999\"),\n",
    "            Symbol(\"\\$100,000-\\$124,999\"),Symbol(\"\\$125,000-\\$149,999\"),\n",
    "            Symbol(\"\\$150,000-\\$199,999\"),Symbol(\"\\$200,000+\")]\n",
    "\n",
    "incomes = [5000.0,12500.0,17500.0,22500.0,27500.0,32500.0,37500.0,42500.0,\n",
    "           47500.0,55000.0,67500.0,87500.0,112500.0,137500.0,175000.0,250000.0]\n",
    "\n",
    "n = nrow(ctincm); median_income = zeros(n)\n",
    "b = length(brackets)\n",
    "for i ∈ 1:n\n",
    "    row = Array(ctincm[i,brackets]); income = Float64[]\n",
    "    for j ∈ 1:b\n",
    "        _income = repeat([incomes[j]],row[j])\n",
    "        income = vcat(income,_income)\n",
    "    end\n",
    "    !isempty(income) ? median_income[i] = median(income) : nothing\n",
    "end"
   ]
  },
  {
   "cell_type": "code",
   "execution_count": 71,
   "metadata": {
    "collapsed": true
   },
   "outputs": [
    {
     "data": {
      "text/html": [
       "<table class=\"data-frame\"><thead><tr><th></th><th>name</th><th>median_income</th><th>tract</th></tr><tr><th></th><th>String</th><th>Float64</th><th>Int64</th></tr></thead><tbody><p>6 rows × 3 columns</p><tr><th>1</th><td>Census Tract 1, New York County, New York</td><td>0.0</td><td>1000100</td></tr><tr><th>2</th><td>Census Tract 2.01, New York County, New York</td><td>22500.0</td><td>1000201</td></tr><tr><th>3</th><td>Census Tract 2.02, New York County, New York</td><td>32500.0</td><td>1000202</td></tr><tr><th>4</th><td>Census Tract 5, New York County, New York</td><td>0.0</td><td>1000500</td></tr><tr><th>5</th><td>Census Tract 6, New York County, New York</td><td>17500.0</td><td>1000600</td></tr><tr><th>6</th><td>Census Tract 7, New York County, New York</td><td>112500.0</td><td>1000700</td></tr></tbody></table>"
      ],
      "text/latex": [
       "\\begin{tabular}{r|ccc}\n",
       "\t& name & median\\_income & tract\\\\\n",
       "\t\\hline\n",
       "\t& String & Float64 & Int64\\\\\n",
       "\t\\hline\n",
       "\t1 & Census Tract 1, New York County, New York & 0.0 & 1000100 \\\\\n",
       "\t2 & Census Tract 2.01, New York County, New York & 22500.0 & 1000201 \\\\\n",
       "\t3 & Census Tract 2.02, New York County, New York & 32500.0 & 1000202 \\\\\n",
       "\t4 & Census Tract 5, New York County, New York & 0.0 & 1000500 \\\\\n",
       "\t5 & Census Tract 6, New York County, New York & 17500.0 & 1000600 \\\\\n",
       "\t6 & Census Tract 7, New York County, New York & 112500.0 & 1000700 \\\\\n",
       "\\end{tabular}\n"
      ],
      "text/plain": [
       "6×3 DataFrame\n",
       "│ Row │ name                                         │ median_income │ tract   │\n",
       "│     │ \u001b[90mString\u001b[39m                                       │ \u001b[90mFloat64\u001b[39m       │ \u001b[90mInt64\u001b[39m   │\n",
       "├─────┼──────────────────────────────────────────────┼───────────────┼─────────┤\n",
       "│ 1   │ Census Tract 1, New York County, New York    │ 0.0           │ 1000100 │\n",
       "│ 2   │ Census Tract 2.01, New York County, New York │ 22500.0       │ 1000201 │\n",
       "│ 3   │ Census Tract 2.02, New York County, New York │ 32500.0       │ 1000202 │\n",
       "│ 4   │ Census Tract 5, New York County, New York    │ 0.0           │ 1000500 │\n",
       "│ 5   │ Census Tract 6, New York County, New York    │ 17500.0       │ 1000600 │\n",
       "│ 6   │ Census Tract 7, New York County, New York    │ 112500.0      │ 1000700 │"
      ]
     },
     "execution_count": 71,
     "metadata": {},
     "output_type": "execute_result"
    }
   ],
   "source": [
    "minc = OrderedDict((:name => ctincm[:,:NAME]),\n",
    "                   (:median_income => median_income),\n",
    "                   (:tract => ctincm[:,:tract]))\n",
    "ctminc = DataFrame(minc); first(ctminc,6)"
   ]
  },
  {
   "cell_type": "code",
   "execution_count": 74,
   "metadata": {},
   "outputs": [
    {
     "data": {
      "text/plain": [
       "\"../../data/info/ctmedian-income.csv\""
      ]
     },
     "execution_count": 74,
     "metadata": {},
     "output_type": "execute_result"
    }
   ],
   "source": [
    "ctminc |> wr(\"../../data/info/ctmedian-income.csv\")"
   ]
  }
 ],
 "metadata": {
  "kernelspec": {
   "display_name": "Julia 1.4.0",
   "language": "julia",
   "name": "julia-1.4"
  },
  "language_info": {
   "file_extension": ".jl",
   "mimetype": "application/julia",
   "name": "julia",
   "version": "1.4.0"
  }
 },
 "nbformat": 4,
 "nbformat_minor": 2
}
