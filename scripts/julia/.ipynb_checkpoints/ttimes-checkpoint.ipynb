{
 "cells": [
  {
   "cell_type": "code",
   "execution_count": null,
   "metadata": {},
   "outputs": [],
   "source": [
    "# load necessary packages\n",
    "using CSV, DataFrames; rd, wr = CSV.read, CSV.write\n",
    "using JSON, GeoJSON, DataStructures\n",
    "using StatsBase"
   ]
  },
  {
   "cell_type": "code",
   "execution_count": null,
   "metadata": {},
   "outputs": [],
   "source": [
    "ctrax = rd(\"data/geo/ct2010.csv\"); tag = :BoroCT2010\n",
    "fails = rd(\"scripts/python/failed.csv\"); fs = fails[:,:failed]"
   ]
  },
  {
   "cell_type": "code",
   "execution_count": null,
   "metadata": {},
   "outputs": [],
   "source": [
    "T = ctrax[:,tag]; n = length(T)\n",
    "# avgs = OrderedDict([t => 0.0 for t in T]...)\n",
    "avgs = OrderedDict()"
   ]
  },
  {
   "cell_type": "code",
   "execution_count": null,
   "metadata": {},
   "outputs": [],
   "source": [
    "path = \"scripts/python/jsons/\"; Fs = Int[]\n",
    "for i ∈ 1:n\n",
    "\tt = T[i];\n",
    "\ttry\n",
    "\t\tf = JSON.Parser.parsefile(\"$path$t.json\")\n",
    "\t\tpull = f[\"results\"][1]; locs = pull[\"locations\"]\n",
    "\t\ttime = [loc[\"properties\"][1][\"travel_time\"] for loc in locs]\n",
    "\t\tif \"unreachable\" in keys(pull)\n",
    "\t\t\tpush!(time,[NaN for i ∈ length(pull[\"unreachable\"])]...)\n",
    "\t\tend\n",
    "\t\tavgs[t] = mean(time./60)\n",
    "\tcatch\n",
    "\t\t@warn \"$t not found...\"\n",
    "        avgs[t] = NaN\n",
    "\t\tpush!(Fs,t)\n",
    "\tend\n",
    "end\n",
    "insertcols!(ctrax,ncol(ctrax)+1,:travel_time => [v for v in values(avgs)])"
   ]
  },
  {
   "cell_type": "code",
   "execution_count": null,
   "metadata": {},
   "outputs": [],
   "source": [
    "jtrax = JSON.Parser.parsefile(\"data/geo/ct2010.geojson\")"
   ]
  },
  {
   "cell_type": "code",
   "execution_count": null,
   "metadata": {},
   "outputs": [],
   "source": [
    "FT = jtrax[\"features\"]; k = length(FT)\n",
    "for i ∈ 1:k\n",
    "\tcode = FT[i][\"properties\"][\"boro_ct2010\"]; code = Base.parse(Int,code)\n",
    "\t!(code in Fs) ? ttime = avgs[code] : ttime = NaN\n",
    "    jtrax[\"features\"][i][\"properties\"][\"travel_time\"] = ttime\n",
    "end"
   ]
  },
  {
   "cell_type": "code",
   "execution_count": null,
   "metadata": {},
   "outputs": [],
   "source": [
    "ctrax |> wr(\"data/info/cttimes.csv\")\n",
    "open(\"data/geo/cttimes.geojson\", \"w\") do f\n",
    "\twrite(f, JSON.json(jtrax))\n",
    "end"
   ]
  }
 ],
 "metadata": {
  "@webio": {
   "lastCommId": null,
   "lastKernelId": null
  },
  "jupytext": {
   "cell_metadata_filter": "-all",
   "encoding": "# -*- coding: utf-8 -*-",
   "formats": "jl:light,ipynb",
   "main_language": "julia"
  },
  "kernelspec": {
   "display_name": "Julia 1.4.0",
   "language": "julia",
   "name": "julia-1.4"
  },
  "language_info": {
   "file_extension": ".jl",
   "mimetype": "application/julia",
   "name": "julia",
   "version": "1.4.0"
  }
 },
 "nbformat": 4,
 "nbformat_minor": 2
}
