{
 "cells": [
  {
   "cell_type": "code",
   "execution_count": 1,
   "metadata": {},
   "outputs": [],
   "source": [
    "using JSON, CSV, DataFrames; rd, wr = CSV.read, CSV.write\n",
    "using GeoInterface, LibGEOS, GeoJSON\n",
    "using DataStructures"
   ]
  },
  {
   "cell_type": "code",
   "execution_count": 3,
   "metadata": {},
   "outputs": [],
   "source": [
    "tracts = rd(\"../../data/info/ctracts.csv\") |> DataFrame;\n",
    "minc   = rd(\"../../data/info/ctmean-income.csv\") |> DataFrame;"
   ]
  },
  {
   "cell_type": "code",
   "execution_count": 38,
   "metadata": {},
   "outputs": [],
   "source": [
    "nj = OrderedDict(); nj[\"type\"] = \"FeatureCollection\"; \n",
    "k = findall(n -> !occursin(\"park-cemetery-etc\",n) && !occursin(\"Airport\",n),tracts[:,:name])\n",
    "n = names(tracts)[1:end-1]\n",
    "feats = []\n",
    "\n",
    "for i ∈ k\n",
    "    feat = OrderedDict(\"properties\" => OrderedDict(),\n",
    "                \"geometry\" => OrderedDict(),\n",
    "                \"type\" => \"Feature\")\n",
    "    for name ∈ n\n",
    "        feat[\"properties\"][String(name)] = tracts[i,name]\n",
    "    end\n",
    "    \n",
    "    feat[\"properties\"][\"beeswarm\"] = \n",
    "    \"<img src='../../figs/beeswarms/$(tracts[i,:tract]).svg' height = '300' width = '300'>\"\n",
    "    \n",
    "    geom = LibGEOS._readgeom(tracts[i,:geometry])\n",
    "    poly = LibGEOS.MultiPolygon(geom) |> GeoInterface.MultiPolygon\n",
    "    feat[\"geometry\"][\"coordinates\"] = poly.coordinates\n",
    "    feat[\"geometry\"][\"type\"] = \"MultiPolygon\"\n",
    "    \n",
    "    push!(feats, feat)\n",
    "end\n",
    "\n",
    "nj[\"features\"] = feats;"
   ]
  },
  {
   "cell_type": "code",
   "execution_count": 39,
   "metadata": {},
   "outputs": [
    {
     "data": {
      "text/plain": [
       "5302441"
      ]
     },
     "execution_count": 39,
     "metadata": {},
     "output_type": "execute_result"
    }
   ],
   "source": [
    "open(\"../../data/geo/ctracts-minus-staten.geojson\", \"w\") do f\n",
    "    write(f, JSON.json(nj))\n",
    "end"
   ]
  }
 ],
 "metadata": {
  "jupytext": {
   "encoding": "# -*- coding: utf-8 -*-",
   "formats": "ipynb,jl:light"
  },
  "kernelspec": {
   "display_name": "Julia 1.4.0",
   "language": "julia",
   "name": "julia-1.4"
  },
  "language_info": {
   "file_extension": ".jl",
   "mimetype": "application/julia",
   "name": "julia",
   "version": "1.4.0"
  }
 },
 "nbformat": 4,
 "nbformat_minor": 2
}
