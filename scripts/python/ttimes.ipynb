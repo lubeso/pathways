{
 "cells": [
  {
   "cell_type": "code",
   "execution_count": null,
   "metadata": {},
   "outputs": [],
   "source": [
    "# import necessary libraries\n",
    "import os; import dotenv; \n",
    "import requests; import json\n",
    "import pandas as pd\n",
    "import numpy as np\n",
    "\n",
    "# load .env file\n",
    "dotenv.load_dotenv()"
   ]
  },
  {
   "cell_type": "code",
   "execution_count": null,
   "metadata": {},
   "outputs": [],
   "source": [
    "# load authentication credentials\n",
    "KEY = os.getenv('TTKEY')\n",
    "ID  = os.getenv('TTAPP')"
   ]
  },
  {
   "cell_type": "code",
   "execution_count": null,
   "metadata": {},
   "outputs": [],
   "source": [
    "# load datasets\n",
    "ct = pd.read_csv('../../data/geo/ct2010-centroids.csv'); T = ct.shape[0]\n",
    "sc = pd.read_csv('../../data/school/hs-directory.csv'); S = sc.shape[0]"
   ]
  },
  {
   "cell_type": "code",
   "execution_count": null,
   "metadata": {},
   "outputs": [],
   "source": [
    "# POST request header\n",
    "H = {'Host' : 'api.traveltimeapp.com',\n",
    "     'Content-Type' : 'application/json',\n",
    "     'Accept' : 'application/json',\n",
    "     'X-Application-Id' : ID,\n",
    "     'X-Api-Key' : KEY}"
   ]
  },
  {
   "cell_type": "code",
   "execution_count": null,
   "metadata": {},
   "outputs": [],
   "source": [
    "# Morning departure time, maximum travel time of 2.5 hours\n",
    "dtime = '2020-04-23T08:00:00-05'; ttime = 9000"
   ]
  },
  {
   "cell_type": "code",
   "execution_count": null,
   "metadata": {},
   "outputs": [],
   "source": [
    "# JSON skeleton\n",
    "param = {\n",
    "         'locations' : [\n",
    "            {'id' : str(ct.loc[0,'BoroCT2010']),\n",
    "             'coords' : {\n",
    "                 'lat' : ct.loc[0,'centroid_lat'],\n",
    "                 'lng' : ct.loc[0,'centroid_lon']\n",
    "             }}\n",
    "        ],\n",
    "        'departure_searches' : [\n",
    "            {'id' : 'forward search',\n",
    "             'departure_location_id' : str(ct.loc[0,'BoroCT2010']),\n",
    "             'arrival_location_ids' : [],\n",
    "             'transportation' : {\n",
    "                 'type' : 'public_transport'\n",
    "             },\n",
    "             'departure_time' : dtime,\n",
    "             'travel_time' : ttime,\n",
    "             'properties' : ['travel_time']\n",
    "            }\n",
    "        ]}"
   ]
  },
  {
   "cell_type": "code",
   "execution_count": null,
   "metadata": {},
   "outputs": [],
   "source": [
    "# Add school locations\n",
    "for i in range(S):\n",
    "    aid = sc.loc[i,'dbn']\n",
    "    lat = sc.loc[i,'Latitude']; lng = sc.loc[i,'Longitude']\n",
    "    d = {'id' : aid, 'coords' : {'lat' : lat, 'lng' : lng}}\n",
    "    param['locations'].append(d)\n",
    "    param['departure_searches'][0]['arrival_location_ids'].append(aid)"
   ]
  },
  {
   "cell_type": "code",
   "execution_count": null,
   "metadata": {},
   "outputs": [],
   "source": [
    "# send request\n",
    "url = 'http://api.traveltimeapp.com/v4/time-filter'\n",
    "r = requests.post(url,headers=H,json=param)"
   ]
  },
  {
   "cell_type": "code",
   "execution_count": null,
   "metadata": {},
   "outputs": [],
   "source": [
    "# save response\n",
    "j = r.json()\n",
    "with open(str(ct.loc[0,'BoroCT2010'])+'.json', 'w', encoding='utf-8') as f:\n",
    "    json.dump(j, f, ensure_ascii=False, indent=4, sort_keys=True)"
   ]
  },
  {
   "cell_type": "code",
   "execution_count": null,
   "metadata": {},
   "outputs": [],
   "source": [
    "def skeleton(ct,i):\n",
    "    params = {\n",
    "         'locations' : [\n",
    "            {'id' : str(ct.loc[i,'BoroCT2010']),\n",
    "             'coords' : {\n",
    "                 'lat' : ct.loc[i,'centroid_lon'],\n",
    "                 'lng' : ct.loc[i,'centroid_lat']\n",
    "             }}\n",
    "        ],\n",
    "        'departure_searches' : [\n",
    "            {'id' : 'forward search',\n",
    "             'departure_location_id' : str(ct.loc[i,'BoroCT2010']),\n",
    "             'arrival_location_ids' : [],\n",
    "             'transportation' : {\n",
    "                 'type' : 'public_transport'\n",
    "             },\n",
    "             'departure_time' : dtime,\n",
    "             'travel_time' : ttime,\n",
    "             'properties' : ['travel_time']\n",
    "            }\n",
    "        ]}\n",
    "    return params"
   ]
  },
  {
   "cell_type": "code",
   "execution_count": null,
   "metadata": {},
   "outputs": [],
   "source": [
    "def fill(params):\n",
    "    for j in range(S):\n",
    "        aid = sc.loc[j,'dbn']\n",
    "        lat = sc.loc[j,'Latitude']; lng = sc.loc[j,'Longitude']\n",
    "        d = {'id' : aid, 'coords' : {'lat' : lat, 'lng' : lng}}\n",
    "        params['locations'].append(d)\n",
    "        params['departure_searches'][0]['arrival_location_ids'].append(aid)\n",
    "    return params"
   ]
  },
  {
   "cell_type": "code",
   "execution_count": null,
   "metadata": {},
   "outputs": [],
   "source": [
    "def saveJSON(i,r):\n",
    "    j = r.json()\n",
    "    with open('jsons/'+str(ct.loc[i,'BoroCT2010'])+'.json', 'w', encoding='utf-8') as f:\n",
    "        json.dump(j, f, ensure_ascii=False, indent=4, sort_keys=True)"
   ]
  },
  {
   "cell_type": "code",
   "execution_count": null,
   "metadata": {},
   "outputs": [],
   "source": [
    "from time import sleep; last = 1"
   ]
  },
  {
   "cell_type": "code",
   "execution_count": null,
   "metadata": {},
   "outputs": [],
   "source": [
    "for i in range(1533,T):\n",
    "    last = i\n",
    "    print(f'{i}...\\n')\n",
    "    params = skeleton(ct,i)\n",
    "    params = fill(params)\n",
    "    r = requests.post(url, headers=H, json=params)\n",
    "    if r.status_code == 200:\n",
    "        saveJSON(i,r); sleep(10)\n",
    "    else:\n",
    "        failed.append(i)"
   ]
  }
 ],
 "metadata": {
  "jupytext": {
   "formats": "ipynb,py:light"
  },
  "kernelspec": {
   "display_name": "Python 3",
   "language": "python",
   "name": "python3"
  }
 },
 "nbformat": 4,
 "nbformat_minor": 2
}
