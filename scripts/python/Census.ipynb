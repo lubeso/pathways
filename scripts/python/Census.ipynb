{
 "cells": [
  {
   "cell_type": "code",
   "execution_count": null,
   "metadata": {},
   "outputs": [],
   "source": [
    "import requests; get = requests.get\n",
    "import pandas as pd\n",
    "import json"
   ]
  },
  {
   "cell_type": "code",
   "execution_count": null,
   "metadata": {},
   "outputs": [],
   "source": [
    "def colnames(cols,d):\n",
    "    for i in range(len(cols)):\n",
    "        if cols[i] in d:\n",
    "            cols[i] = d[cols[i]]\n",
    "    return cols\n",
    "\n",
    "def borocode(rows,c):\n",
    "    for i in range(len(rows)):\n",
    "        rows[i][-1] = c + rows[i][-1]\n",
    "    return rows"
   ]
  },
  {
   "cell_type": "code",
   "execution_count": null,
   "metadata": {},
   "outputs": [],
   "source": [
    "url = 'https://api.census.gov/data/2016/acs/acs5?get='\n",
    "qry = 'NAME,'\n",
    "crd = '&key=42c4af5849c25e45cab5add011a9e440505d4148'\n",
    "\n",
    "# grade\n",
    "codes = ['B14001_007E','B14002_017E','B14002_018E','B14002_041E','B14002_042E']; ncode = len(codes)\n",
    "types = ['Total', 'Male (Public)','Male (Private)','Female (Public)','Female (Private)']\n",
    "dtype = {codes[i] : types[i] for i in range(ncode)}\n",
    "for i in range(ncode):\n",
    "    qry += codes[i]\n",
    "    if i != (ncode - 1):\n",
    "        qry += ','"
   ]
  },
  {
   "cell_type": "code",
   "execution_count": null,
   "metadata": {},
   "outputs": [],
   "source": [
    "url = 'https://api.census.gov/data/2016/acs/acs5?get='\n",
    "qry = 'NAME,'\n",
    "crd = '&key=42c4af5849c25e45cab5add011a9e440505d4148'\n",
    "\n",
    "# race\n",
    "codes = [f'B02001_00{i}E' for i in range(1,9)]; ncode = len(codes)\n",
    "types = ['Total', 'White', 'Black', 'Indigenous', 'Asian', 'Pacific Islander', 'Other', 'Multiracial']\n",
    "dtype = {codes[i] : types[i] for i in range(ncode)}\n",
    "for i in range(ncode):\n",
    "    qry += codes[i]\n",
    "    if i != (ncode - 1):\n",
    "        qry += ','"
   ]
  },
  {
   "cell_type": "code",
   "execution_count": null,
   "metadata": {},
   "outputs": [],
   "source": [
    "url = 'https://api.census.gov/data/2016/acs/acs5?get='\n",
    "qry = 'NAME,'\n",
    "crd = '&key=42c4af5849c25e45cab5add011a9e440505d4148'\n",
    "\n",
    "# income\n",
    "codes = [f'B19001_00{i}E' for i in range(1,10)]\n",
    "codes.extend([f'B19001_0{i}E' for i in range(10,18)])\n",
    "ncode = len(codes)\n",
    "types = ['Total',\"<$10,000\",\"$10,000-$14,999\",\"$15,000-$19,999\",\"$20,000-$24,999\",\n",
    "         \"$25,000-$29,999\",\"$30,000-$34,999\",\"$35,000-$39,999\",\"$40,000-$44,999\",\n",
    "         \"$45,000-$49,999\",\"$50,000-$59,999\",\"$60,000-$74,999\",\"$75,000-$99,999\",\n",
    "         \"$100,000-$124,999\",\"$125,000-$149,999\",\"$150,000-$199,999\",\"$200,000+\"]\n",
    "dtype = {codes[i] : types[i] for i in range(ncode)}\n",
    "for i in range(ncode):\n",
    "    qry += codes[i]\n",
    "    if i != (ncode - 1):\n",
    "        qry += ','"
   ]
  },
  {
   "cell_type": "code",
   "execution_count": null,
   "metadata": {},
   "outputs": [],
   "source": [
    "# Manhattan (New York County)\n",
    "# borough code: 1\n",
    "loc = '&for=tract:*&in=state:36&in=county:061'\n",
    "full = url + qry + loc + crd; r = get(full); rj = r.json()\n",
    "\n",
    "# decode column names\n",
    "cols = rj[0]; cols = colnames(cols,dtype)\n",
    "\n",
    "# append borough code\n",
    "manhattan = rj[1:]; manhattan = borocode(manhattan, '1')"
   ]
  },
  {
   "cell_type": "code",
   "execution_count": null,
   "metadata": {},
   "outputs": [],
   "source": [
    "# The Bronx (Bronx County)\n",
    "# borough code: 2\n",
    "loc = '&for=tract:*&in=state:36&in=county:005'\n",
    "full = url + qry + loc + crd; r = get(full); rj = r.json()\n",
    "\n",
    "# decode column names\n",
    "cols = rj[0]; colnames(cols,dtype)\n",
    "\n",
    "# append borough code\n",
    "bronx = rj[1:]; bronx = borocode(bronx, '2')"
   ]
  },
  {
   "cell_type": "code",
   "execution_count": null,
   "metadata": {},
   "outputs": [],
   "source": [
    "# Brooklyn (Kings County)\n",
    "# borough code: 3\n",
    "loc = '&for=tract:*&in=state:36&in=county:047'\n",
    "full = url + qry + loc + crd; r = get(full); rj = r.json()\n",
    "\n",
    "# decode column names\n",
    "cols = rj[0]; cols = colnames(cols,dtype)\n",
    "\n",
    "# append borough code\n",
    "brooklyn = rj[1:]; brooklyn = borocode(brooklyn, '3')"
   ]
  },
  {
   "cell_type": "code",
   "execution_count": null,
   "metadata": {},
   "outputs": [],
   "source": [
    "# Queens (Queens County)\n",
    "# borough code: 4\n",
    "loc = '&for=tract:*&in=state:36&in=county:081'\n",
    "full = url + qry + loc + crd; r = get(full); rj = r.json()\n",
    "\n",
    "# decode column names\n",
    "cols = rj[0]; cols = colnames(cols,dtype)\n",
    "\n",
    "# append borough code\n",
    "queens = rj[1:]; queens = borocode(queens, '4')"
   ]
  },
  {
   "cell_type": "code",
   "execution_count": null,
   "metadata": {},
   "outputs": [],
   "source": [
    "# Staten Island (Richmond County)\n",
    "# borough code: 5\n",
    "loc = '&for=tract:*&in=state:36&in=county:085'\n",
    "full = url + qry + loc + crd; r = get(full); rj = r.json()\n",
    "\n",
    "# decode column names\n",
    "cols = colnames(rj[0],dtype)\n",
    "\n",
    "# append borough code\n",
    "staten = rj[1:]; staten = borocode(staten, '5')"
   ]
  },
  {
   "cell_type": "code",
   "execution_count": null,
   "metadata": {},
   "outputs": [],
   "source": [
    "rows = manhattan[:]\n",
    "rows.extend(bronx)\n",
    "rows.extend(brooklyn)\n",
    "rows.extend(queens)\n",
    "rows.extend(staten)"
   ]
  },
  {
   "cell_type": "code",
   "execution_count": null,
   "metadata": {},
   "outputs": [],
   "source": [
    "ct = pd.DataFrame(rows, columns = cols); ct.head()"
   ]
  },
  {
   "cell_type": "code",
   "execution_count": null,
   "metadata": {},
   "outputs": [],
   "source": [
    "ct.to_csv('../../data/info/ctincome.csv', index = False)"
   ]
  }
 ],
 "metadata": {
  "jupytext": {
   "formats": "ipynb,py:light"
  },
  "kernelspec": {
   "display_name": "Python 3",
   "language": "python",
   "name": "python3"
  }
 },
 "nbformat": 4,
 "nbformat_minor": 2
}
